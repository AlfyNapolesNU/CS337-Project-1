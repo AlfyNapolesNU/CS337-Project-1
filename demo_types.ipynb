{
 "cells": [
  {
   "cell_type": "code",
   "execution_count": 1,
   "metadata": {},
   "outputs": [],
   "source": [
    "#env set up\n",
    "import pandas as pd"
   ]
  },
  {
   "cell_type": "code",
   "execution_count": 2,
   "metadata": {},
   "outputs": [
    {
     "data": {
      "text/plain": [
       "'preprocessed_tweets = \"gg2013_preprocessed.json\"\\ntweets = pd.read_json(preprocessed_tweets, orient=\\'records\\', lines=True)[[\"text\",\"timestamp\",\"is_english\"]]\\nfor i,tweet in tweets.iterrows():\\n    if \" host\" in tweet[\"text\"]:\\n        print(tweet[\"text\"])\\n        \\n'"
      ]
     },
     "execution_count": 2,
     "metadata": {},
     "output_type": "execute_result"
    }
   ],
   "source": [
    "\"\"\"preprocessed_tweets = \"gg2013_preprocessed.json\"\n",
    "tweets = pd.read_json(preprocessed_tweets, orient='records', lines=True)[[\"text\",\"timestamp\",\"is_english\"]]\n",
    "for i,tweet in tweets.iterrows():\n",
    "    if \" host\" in tweet[\"text\"]:\n",
    "        print(tweet[\"text\"])\n",
    "        \n",
    "\"\"\""
   ]
  },
  {
   "cell_type": "code",
   "execution_count": 3,
   "metadata": {},
   "outputs": [],
   "source": [
    "from ourtypes.person import Person\n",
    "from ourtypes.host import Hosts\n",
    "hosts = Hosts()"
   ]
  },
  {
   "cell_type": "code",
   "execution_count": 4,
   "metadata": {},
   "outputs": [],
   "source": [
    "for i in range(10):\n",
    "    hosts.vote_host(name=\"Nicole Taylor\")\n",
    "for i in range(15):\n",
    "    hosts.vote_host(name=\"Alfonso Napoles\")"
   ]
  },
  {
   "cell_type": "code",
   "execution_count": 5,
   "metadata": {},
   "outputs": [
    {
     "name": "stdout",
     "output_type": "stream",
     "text": [
      "Name: nicole taylor, Votes: 10\n",
      "Name: lena choe, Votes: 5\n",
      "Name: alfonso napoles, Votes: 15\n"
     ]
    }
   ],
   "source": [
    "print(hosts)"
   ]
  },
  {
   "cell_type": "code",
   "execution_count": 6,
   "metadata": {},
   "outputs": [],
   "source": [
    "vc = hosts.total_votes()"
   ]
  },
  {
   "cell_type": "code",
   "execution_count": 7,
   "metadata": {},
   "outputs": [
    {
     "data": {
      "text/plain": [
       "[('alfonso napoles', 15), ('nicole taylor', 10), ('lena choe', 5)]"
      ]
     },
     "execution_count": 7,
     "metadata": {},
     "output_type": "execute_result"
    }
   ],
   "source": [
    "vc"
   ]
  }
 ],
 "metadata": {
  "kernelspec": {
   "display_name": "project1-337",
   "language": "python",
   "name": "python3"
  },
  "language_info": {
   "codemirror_mode": {
    "name": "ipython",
    "version": 3
   },
   "file_extension": ".py",
   "mimetype": "text/x-python",
   "name": "python",
   "nbconvert_exporter": "python",
   "pygments_lexer": "ipython3",
   "version": "3.12.0"
  }
 },
 "nbformat": 4,
 "nbformat_minor": 2
}
