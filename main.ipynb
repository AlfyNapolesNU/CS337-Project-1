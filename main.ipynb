{
 "cells": [
  {
   "cell_type": "code",
   "execution_count": 20,
   "metadata": {},
   "outputs": [],
   "source": [
    "import pandas as pd\n",
    "import re\n",
    "from functools import partial\n",
    "from ourtypes.category import Category\n",
    "from ourtypes.award import Award\n",
    "import pickle \n",
    "import numpy\n",
    "from rank_bm25 import BM25Okapi\n",
    "import spacy\n",
    "with open(\"common_words_hosts.pickle\", \"rb\") as pckl:   \n",
    "    common_words_host_list = pickle.load(pckl)\n",
    "with open(\"common_words_wins.pickle\", \"rb\") as pckl:\n",
    "    common_words_winners_list = pickle.load(pckl)"
   ]
  },
  {
   "cell_type": "markdown",
   "metadata": {},
   "source": [
    "Set up tweets df"
   ]
  },
  {
   "cell_type": "code",
   "execution_count": 21,
   "metadata": {},
   "outputs": [],
   "source": [
    "preprocessed_tweets = \"gg2013_preprocessed.json\"\n",
    "tweets = pd.read_json(preprocessed_tweets, orient='records', lines=True)[[\"text\",\"is_english\"]]\n",
    "tweets = tweets[tweets[\"is_english\"]] #only keep english tweets\n",
    "del tweets[\"is_english\"] #get rid of this row\n",
    "tweets = tweets.dropna(subset=[\"text\"])"
   ]
  },
  {
   "cell_type": "code",
   "execution_count": 22,
   "metadata": {},
   "outputs": [],
   "source": [
    "#get hosts for entire ceremony\n",
    "#get award names for the ceremony"
   ]
  },
  {
   "cell_type": "code",
   "execution_count": 23,
   "metadata": {},
   "outputs": [],
   "source": [
    "def remove_common_words(text, word_list):\n",
    "    #negative positive golden globes\n",
    "    words = [word for word in text.split(\" \") if word not in word_list]\n",
    "    return \" \".join(words)"
   ]
  },
  {
   "cell_type": "code",
   "execution_count": 24,
   "metadata": {},
   "outputs": [],
   "source": [
    "def remove_rt(text):\n",
    "    text = text.split(\" \")\n",
    "    \n",
    "    if \"rt\" in text:\n",
    "        i = text.index(\"rt\")\n",
    "        return remove_rt(\" \".join(text[0:i]) + \" \" + \" \".join(text[i+2:]))\n",
    "    return \" \".join(text)"
   ]
  },
  {
   "cell_type": "markdown",
   "metadata": {},
   "source": [
    "function to get hosts"
   ]
  },
  {
   "cell_type": "code",
   "execution_count": 25,
   "metadata": {},
   "outputs": [],
   "source": [
    "def hosts_helper(text, host_funcs, cohost_funcs, single_cohost_funcs, hosts):\n",
    "    #check for cohosts first\n",
    "    for func in cohost_funcs:\n",
    "        m = func.search(text)\n",
    "        if m is not None:\n",
    "            name1 = remove_common_words(m[\"name1\"], common_words_host_list)\n",
    "            name2 = remove_common_words(m[\"name2\"], common_words_host_list)\n",
    "            hosts.vote_contender(name1, cocontender=name2)\n",
    "            hosts.vote_contender(name2, cocontender=name1)\n",
    "            return name1, name2\n",
    "    #check for hosts\n",
    "    for func in host_funcs:\n",
    "        m = func.search(text)\n",
    "        if m is not None:\n",
    "            name = remove_common_words(m[\"name\"], common_words_host_list)\n",
    "            hosts.vote_contender(name)\n",
    "            return name\n",
    "    for func in single_cohost_funcs:\n",
    "        m = func.search(text)\n",
    "        if m is not None:\n",
    "            name = remove_common_words(m[\"name\"], common_words_host_list)\n",
    "            hosts.vote_contender(name)\n",
    "            return name\n",
    "    return None"
   ]
  },
  {
   "cell_type": "code",
   "execution_count": 26,
   "metadata": {},
   "outputs": [],
   "source": [
    "def get_hosts(tweets):\n",
    "    hosts = Category(type=\"hosts\") #our host storage object\n",
    "    host_tweets = tweets[tweets[\"text\"].str.contains(\"host\")] #get tweets with the word host in it\n",
    "    #del host_tweets[\"timestamp\"] #we don't need this \n",
    "    host_tweets = host_tweets.map(remove_rt) #get rid of retweets\n",
    "    #handle single names or no spaces?\n",
    "    host_patterns = ['host (?P<name>[a-z]+ [a-z]+)', '(?P<name>[a-z]+ [a-z]+) (hosting|is hosting|will host|hosts|hosted)']\n",
    "    cohost_patterns = ['(co-?|)hosts (?P<name1>[a-z]+ [a-z]+)( and | )(?P<name2>[a-z]+ [a-z]+)',\n",
    "                    '(?P<name1>[a-z]+ [a-z]+)( and | )(?P<name2>[a-z]+ [a-z]+) (are (co-?|)hosting|will (co-?|)host|(co-?|)host|(co-?|)hosting|hosted)[^s]']\n",
    "    single_cohost_patterns = ['cohost (?P<name>[a-z]+ [a-z]+)',\n",
    "                    '(?P<name>[a-z]+ [a-z]+) (is cohosting|will cohost|cohosts|cohosting|cohosted)[^s]']\n",
    "    #compile regex functions\n",
    "    host_funcs = [re.compile(pat) for pat in host_patterns]\n",
    "    cohost_funcs = [re.compile(pat) for pat in cohost_patterns]\n",
    "    single_cohost_funcs = [re.compile(pat) for pat in single_cohost_patterns]\n",
    "\n",
    "    #apply helper function \n",
    "    host_tweets = host_tweets.map(partial(hosts_helper, host_funcs=host_funcs, cohost_funcs=cohost_funcs, single_cohost_funcs=single_cohost_funcs, hosts=hosts))\n",
    "    del host_tweets\n",
    "    return hosts"
   ]
  },
  {
   "cell_type": "code",
   "execution_count": 27,
   "metadata": {},
   "outputs": [],
   "source": [
    "#h = get_hosts(tweets)\n",
    "#vc = h.total_votes()\n",
    "#match misspelling and single name "
   ]
  },
  {
   "cell_type": "markdown",
   "metadata": {},
   "source": [
    "## Part Two\n",
    "- have awards as input\n",
    "- get presenters for awards\n",
    "- get nominees for awards\n",
    "- get winners for awards"
   ]
  },
  {
   "cell_type": "code",
   "execution_count": 28,
   "metadata": {},
   "outputs": [],
   "source": [
    "awards = [\"best performance by an actor in a television series - comedy or musical\", \n",
    "          \"best performance by an actor in a television series - drama\",\n",
    "          \"best television series - comedy or musical\", \n",
    "          \"best performance by an actor in a motion picture - drama\",\n",
    "          \"best original song - motion picture\", \n",
    "          \"best animated feature film\"]\n",
    "          "
   ]
  },
  {
   "cell_type": "code",
   "execution_count": 94,
   "metadata": {},
   "outputs": [],
   "source": [
    "def award_aliases(award):\n",
    "    #remove performance by an\n",
    "    #television -> tv\n",
    "    #television series -> tv\n",
    "    #remove feature\n",
    "    #in a supporting role - supporting actress/actor \n",
    "    #film -> movie\n",
    "    #motion picture -> movie\n",
    "    aliases = [award]\n",
    "    alias1 = award.replace(\"performance by an \", \"\")\n",
    "    aliases.append(alias1)\n",
    "    x = map(lambda x: x.replace(\"television series\", \"tv\"), aliases)\n",
    "    aliases += list(x)\n",
    "    x = map(lambda x: x.replace(\"television\", \"tv\"), aliases)\n",
    "    aliases += list(x)\n",
    "    aliases += list(map(lambda x: x.replace(\"feature \", \"\"), aliases))\n",
    "    \n",
    "    if \"actor\" in award:\n",
    "        aliases += list(map(lambda x: x.replace(\"actor in a supporting role\", \"supporting actor\"),aliases))\n",
    "    elif \"actress\" in award:\n",
    "        aliases += list(map(lambda x: x.replace(\"actress in a supporting role\", \"supporting actress\"), aliases))\n",
    "    \n",
    "    awards[award].add_alias(aliases)"
   ]
  },
  {
   "cell_type": "code",
   "execution_count": 95,
   "metadata": {},
   "outputs": [
    {
     "data": {
      "text/plain": [
       "<map at 0x12a3303a0>"
      ]
     },
     "execution_count": 95,
     "metadata": {},
     "output_type": "execute_result"
    }
   ],
   "source": [
    "map(lambda x: award_aliases(x.key(), x), awards)"
   ]
  },
  {
   "cell_type": "code",
   "execution_count": 96,
   "metadata": {},
   "outputs": [
    {
     "ename": "AttributeError",
     "evalue": "'Award' object has no attribute 'aliases'",
     "output_type": "error",
     "traceback": [
      "\u001b[0;31m---------------------------------------------------------------------------\u001b[0m",
      "\u001b[0;31mAttributeError\u001b[0m                            Traceback (most recent call last)",
      "\u001b[1;32m/Users/code/Documents/GitHub/CS337-Project-1/main.ipynb Cell 15\u001b[0m line \u001b[0;36m2\n\u001b[1;32m      <a href='vscode-notebook-cell:/Users/code/Documents/GitHub/CS337-Project-1/main.ipynb#X50sZmlsZQ%3D%3D?line=0'>1</a>\u001b[0m \u001b[39mfor\u001b[39;00m a \u001b[39min\u001b[39;00m awards:\n\u001b[0;32m----> <a href='vscode-notebook-cell:/Users/code/Documents/GitHub/CS337-Project-1/main.ipynb#X50sZmlsZQ%3D%3D?line=1'>2</a>\u001b[0m     \u001b[39mprint\u001b[39m(awards[a]\u001b[39m.\u001b[39;49maliases)\n",
      "\u001b[0;31mAttributeError\u001b[0m: 'Award' object has no attribute 'aliases'"
     ]
    }
   ],
   "source": [
    "for a in awards:\n",
    "    print(awards[a].aliases)"
   ]
  },
  {
   "cell_type": "markdown",
   "metadata": {},
   "source": [
    "\"best performance by an actress in a mini-series or motion picture made for television\",\n",
    "          \"best performance by an actor in a mini-series or motion picture made for television\", \n",
    "          \"best television series - drama\", \n",
    "          \"best performance by an actress in a supporting role in a motion picture\",\n",
    "          \"best performance by an actor in a supporting role in a series, mini-series or motion picture made for television\", \n",
    "          \"best motion picture - drama\",\n",
    "          \"best performance by an actor in a motion picture - comedy or musical\", \n",
    "          \"cecil b. demille award\", \n",
    "          \"best performance by an actress in a motion picture - drama\",\n",
    "          \"best performance by an actress in a television series - drama\", \n",
    "          \"best original score - motion picture\", \n",
    "          \"best mini-series or motion picture made for television\",\n",
    "          \"best performance by an actress in a motion picture - comedy or musical\", \n",
    "          \"best motion picture - comedy or musical\", \n",
    "          \"best performance by an actress in a supporting role in a series, mini-series or motion picture made for television\",\n",
    "          \"best performance by an actor in a supporting role in a motion picture\",\n",
    "          \"best foreign language film\", \n",
    "          \"best performance by an actress in a television series - comedy or musical\",\n",
    "          \"best director - motion picture\", \"best screenplay - motion picture\"]"
   ]
  },
  {
   "cell_type": "markdown",
   "metadata": {},
   "source": [
    "Format awards "
   ]
  },
  {
   "cell_type": "code",
   "execution_count": 29,
   "metadata": {},
   "outputs": [],
   "source": [
    "def format_awards(awards): \n",
    "    results = {}\n",
    "    person_patterns = \"actor|actress|direct(ion|or)|choreo|perfomance\"\n",
    "    thing_patterns = \"series|mini-series|movie|film|music|comedy|song|score|motion picture\"\n",
    "    person_func = re.compile(person_patterns)\n",
    "    thing_func = re.compile(thing_patterns)\n",
    "    for award in awards:\n",
    "        m = person_func.search(award)\n",
    "        if m is not None:\n",
    "            results[award] = Award(award, winner_type=\"Person\")\n",
    "            continue\n",
    "        m = thing_func.search(award)\n",
    "        if m is not None:\n",
    "            results[award] = Award(award, winner_type=\"Thing\")\n",
    "        else:\n",
    "            results[award] = Award(award)\n",
    "    return results\n",
    "        "
   ]
  },
  {
   "cell_type": "code",
   "execution_count": 30,
   "metadata": {},
   "outputs": [],
   "source": [
    "awards = format_awards(awards)"
   ]
  },
  {
   "cell_type": "markdown",
   "metadata": {},
   "source": [
    "### Winners"
   ]
  },
  {
   "cell_type": "markdown",
   "metadata": {},
   "source": [
    "add bm25 search as well"
   ]
  },
  {
   "cell_type": "code",
   "execution_count": 31,
   "metadata": {},
   "outputs": [],
   "source": [
    "tweets = tweets.map(remove_rt)\n",
    "corpus = tweets.to_numpy()\n",
    "tokenized_corpus = [str(tweet).split(\" \") for tweet in corpus]\n",
    "bm25 = BM25Okapi(tokenized_corpus)"
   ]
  },
  {
   "cell_type": "code",
   "execution_count": 41,
   "metadata": {},
   "outputs": [],
   "source": [
    "spacy_model = spacy.load(\"en_core_web_sm\")"
   ]
  },
  {
   "cell_type": "code",
   "execution_count": 48,
   "metadata": {},
   "outputs": [],
   "source": [
    "def bm25_search(award_name):\n",
    "    q = award_name.split(\" \")\n",
    "    scores = bm25.get_scores(q)\n",
    "    indices = numpy.argsort(scores).tolist()\n",
    "    relevant = corpus[indices]\n",
    "    return relevant[-500:]"
   ]
  },
  {
   "cell_type": "code",
   "execution_count": 50,
   "metadata": {},
   "outputs": [
    {
     "name": "stdout",
     "output_type": "stream",
     "text": [
      "['damian lewis for best actor in tv series - drama wohoooo goldenglobes']\n",
      "[\"'damian lewis\", '[']\n",
      "\n",
      "\n",
      "['damian lewis for best actor in tv series - drama wohoooo goldenglobes']\n",
      "['best actor', 'for']\n",
      "\n",
      "\n",
      "['damian lewis for best actor in tv series - drama wohoooo goldenglobes']\n",
      "['tv series - drama wohoooo', 'in']\n",
      "\n",
      "\n",
      "['best actress in a tv series - drama claire danes  homeland goldenglobes the manic carrie mathison congrats homeland']\n",
      "['best actress', 'danes']\n",
      "\n",
      "\n",
      "['best actress in a tv series - drama claire danes  homeland goldenglobes the manic carrie mathison congrats homeland']\n",
      "['a tv series - drama claire', 'in']\n",
      "\n",
      "\n",
      "['best actress in a tv series - drama claire danes  homeland goldenglobes the manic carrie mathison congrats homeland']\n",
      "['homeland', 'danes']\n",
      "\n",
      "\n",
      "['best actress in a tv series - drama claire danes  homeland goldenglobes the manic carrie mathison congrats homeland']\n",
      "['the manic carrie mathison congrats homeland', 'danes']\n",
      "\n",
      "\n",
      "['best actress in a television series - drama claire danes for homeland goldenglobes']\n",
      "[\"['best actress\", 'actress']\n",
      "\n",
      "\n",
      "['best actress in a television series - drama claire danes for homeland goldenglobes']\n",
      "['a television series', 'in']\n",
      "\n",
      "\n",
      "['best actress in a television series - drama claire danes for homeland goldenglobes']\n",
      "['- drama claire', 'in']\n",
      "\n",
      "\n",
      "['best actress in a television series - drama claire danes for homeland goldenglobes']\n",
      "['homeland', 'for']\n",
      "\n",
      "\n",
      "['goldenglobes best actress in a supporting role in a motion picture - anne hathaway les miserables well done anne -']\n",
      "[\"' best actress\", 'done']\n",
      "\n",
      "\n",
      "['goldenglobes best actress in a supporting role in a motion picture - anne hathaway les miserables well done anne -']\n",
      "['a supporting role', 'in']\n",
      "\n",
      "\n",
      "['goldenglobes best actress in a supporting role in a motion picture - anne hathaway les miserables well done anne -']\n",
      "['a motion picture - anne hathaway les miserables', 'in']\n",
      "\n",
      "\n",
      "[' congrats to officialadele on winning best original song for skyfall goldenglobes']\n",
      "[\"[' congrats\", 'congrats']\n",
      "\n",
      "\n",
      "[' congrats to officialadele on winning best original song for skyfall goldenglobes']\n",
      "['best original song', 'winning']\n",
      "\n",
      "\n",
      "[' congrats to officialadele on winning best original song for skyfall goldenglobes']\n",
      "['skyfall', 'for']\n",
      "\n",
      "\n",
      "['lovely intro though to a lovely moving film goldenglobes lincoln']\n",
      "[\"['lovely intro\", 'intro']\n",
      "\n",
      "\n",
      "['lovely intro though to a lovely moving film goldenglobes lincoln']\n",
      "['a lovely moving film  lincoln', 'to']\n",
      "\n",
      "\n"
     ]
    }
   ],
   "source": [
    "for award in awards.keys():\n",
    "    relevant = bm25_search(award)\n",
    "    for tweet in relevant:\n",
    "        input_sentence = str(tweet).replace(\"goldenglobes\",\"\")\n",
    "        spacy_output = spacy_model(input_sentence)\n",
    "        for chunk in spacy_output.noun_chunks:\n",
    "            print(tweet)\n",
    "            print([chunk.text, chunk.root.head.text])\n",
    "            print(\"\\n\")\n",
    "        break"
   ]
  },
  {
   "cell_type": "code",
   "execution_count": 51,
   "metadata": {},
   "outputs": [
    {
     "name": "stdout",
     "output_type": "stream",
     "text": [
      "damian lewis\n",
      "at the\n",
      "of lincoln\n",
      "goldenglobes\n",
      "lewis\n",
      "goldenglobes\n",
      "lewis\n",
      "daniel day\n",
      "lincolns first\n",
      "goldenglobes\n",
      "lewis\n",
      "for lincoln\n",
      "has just\n"
     ]
    }
   ],
   "source": [
    "for award in awards.keys():\n",
    "    relevant = bm25_search(award)\n",
    "    won_patterns = [f\"{award}( goes to | is | )(?P<name>[a-z]+ ?[a-z]+)\", f\"(?P<name>[a-z]+ ?[a-z]+)[just]?( wins? | on winning | won | has[ just]? won | got| )[ award for ]?{award}\"]\n",
    "    won_funcs = [re.compile(ele) for ele in won_patterns]\n",
    "    #presenter_patterns = [f\"(?P<name>[a-z]+ ?[a-z]+)( presents | is presenting | are presenting | present )[ award for ]?\"]\n",
    "    #presenter_funcs = [re.compile(ele) for ele in presenter_patterns]\n",
    "    for tweet in relevant:\n",
    "        for f in won_funcs:\n",
    "            tweet = str(tweet)\n",
    "            m = f.search(tweet)\n",
    "            if m is not None:\n",
    "                name = m[\"name\"]\n",
    "                if awards[award].winner_type ==\"Person\":\n",
    "                    print(name)\n",
    "                    #name = remove_common_words(name, common_words_winners_list)\n",
    "                awards[award].add_winner(name)\n",
    "        \"\"\"for f in presenter_funcs:\n",
    "            tweet = str(tweet)\n",
    "            m = f.search(tweet)\n",
    "            if m is not None:\n",
    "                name = remove_common_words(m[\"name\"], common_words_winners_list)\n",
    "                name = m[\"name\"]\n",
    "                awards[award].add_presenter(name)\"\"\""
   ]
  },
  {
   "cell_type": "code",
   "execution_count": 52,
   "metadata": {},
   "outputs": [
    {
     "name": "stdout",
     "output_type": "stream",
     "text": [
      "Award: best performance by an actor in a television series - comedy or musical\n",
      "Nominees: \n",
      "Winners: \n",
      "Presenters: \n",
      "\n",
      "Award: best performance by an actor in a television series - drama\n",
      "Nominees: \n",
      "Winners: Name: damian lewis, Votes: 2\n",
      "Presenters: Name: lea michele, Votes: 1\n",
      "Name: jennifer lawrence, Votes: 1\n",
      "\n",
      "Award: best television series - comedy or musical\n",
      "Nominees: \n",
      "Winners: Name: girls hbo, Votes: 2\n",
      "Name: deserved girlshbo, Votes: 2\n",
      "Name: caraasrt goldenglobes, Votes: 4.0\n",
      "Name: from uk, Votes: 2\n",
      "Presenters: Name: dustin hoffman, Votes: 1\n",
      "\n",
      "Award: best performance by an actor in a motion picture - drama\n",
      "Nominees: \n",
      "Winners: Name: for lincoln, Votes: 2\n",
      "Name: has just, Votes: 2\n",
      "Name: daniel day, Votes: 2\n",
      "Name: lincolns first, Votes: 2\n",
      "Name: at the, Votes: 2\n",
      "Name: of lincoln, Votes: 2\n",
      "Presenters: Name: kate hudson, Votes: 1\n",
      "Name: julia roberts, Votes: 1\n",
      "\n",
      "Award: best original song - motion picture\n",
      "Nominees: \n",
      "Winners: Name: goldenglobes httptconlbblqq, Votes: 7.0\n",
      "Name: wins for, Votes: 10\n",
      "Name: skyfall by, Votes: 4\n",
      "Name: with skyfall, Votes: 2\n",
      "Name: for winning, Votes: 2\n",
      "Name: skyfall adeleeeeeeeee, Votes: 2\n",
      "Name: goldenglobes tough, Votes: 2\n",
      "Presenters: Name: amanda seyfried, Votes: 1\n",
      "Name: spokes jlo, Votes: 1\n",
      "Name: and jlo, Votes: 1\n",
      "\n",
      "Award: best animated feature film\n",
      "Nominees: \n",
      "Winners: Name: to brave, Votes: 6.0\n",
      "Name: love it, Votes: 2\n",
      "Name: brave wins, Votes: 10\n",
      "Name: brave goldenglobes, Votes: 11.0\n",
      "Name: awarded to, Votes: 12\n",
      "Name: it was, Votes: 2\n",
      "Name: wins for, Votes: 2\n",
      "Name: princess brave, Votes: 2\n",
      "Name: geht an, Votes: 2\n",
      "Name: brave the, Votes: 10\n",
      "Name: for curls, Votes: 2\n",
      "Name: award for, Votes: 2\n",
      "Name: at the, Votes: 4\n",
      "Name: ontheredcarpet brave, Votes: 2\n",
      "Name: brave httptcohuuxomfe, Votes: 2\n",
      "Name: d goldenglobes, Votes: 2\n",
      "Name: award httptcorgjzty, Votes: 2\n",
      "Name: wins the, Votes: 12\n",
      "Name: award httptcoortlo, Votes: 2\n",
      "Name: award httptcoydjlkap, Votes: 4\n",
      "Name: goes to, Votes: 2\n",
      "Name: shelizabeth cnnshowbiz, Votes: 3.5\n",
      "Name: award goldenglobes, Votes: 2\n",
      "Name: vi ainda, Votes: 2\n",
      "Name: such an, Votes: 2\n",
      "Name: happy brave, Votes: 2\n",
      "Name: award httptcogvuizofl, Votes: 2\n",
      "Name: award goes, Votes: 2\n",
      "Name: brave pixar, Votes: 2\n",
      "Name: goldenglobes httptcossae, Votes: 2\n",
      "Name: speech for, Votes: 2\n",
      "Name: we kinda, Votes: 2\n",
      "Name: btw brave, Votes: 2\n",
      "Name: presents for, Votes: 2\n",
      "Name: pixarbrave congrats, Votes: 2\n",
      "Name: and the, Votes: 4\n",
      "Name: archery lady, Votes: 2\n",
      "Name: d ccyamzuh, Votes: 2\n",
      "Name: gmanews brave, Votes: 2\n",
      "Name: brave booooo, Votes: 2\n",
      "Name: th award, Votes: 2\n",
      "Name: pixarbrave for, Votes: 6\n",
      "Name: pixarbrave at, Votes: 2\n",
      "Name: is winning, Votes: 2\n",
      "Name: goldenglobes brendachapman, Votes: 2\n",
      "Name: for winning, Votes: 2\n",
      "Name: over wreck, Votes: 2.5\n",
      "Name: believe brave, Votes: 2\n",
      "Name: rtancalerts goldenglobes, Votes: 2\n",
      "Name: winner for, Votes: 2\n",
      "Presenters: Name: baron cohen, Votes: 1\n",
      "Name: stage to, Votes: 1\n",
      "Name: chose to, Votes: 1\n",
      "Name: arnold schwarzenegger, Votes: 1\n",
      "Name: and schwarzenegger, Votes: 3\n",
      "Name: speak english, Votes: 1\n",
      "Name: when you, Votes: 1\n",
      "Name: steaks just, Votes: 1\n",
      "\n"
     ]
    }
   ],
   "source": [
    "for v in awards.values():\n",
    "    print(v)"
   ]
  },
  {
   "cell_type": "code",
   "execution_count": 35,
   "metadata": {},
   "outputs": [
    {
     "data": {
      "text/plain": [
       "'l = []\\nwith open(\"common_words_winner_nominees_presenters.txt\", \"w+\") as f:\\n    for k in awards.keys():\\n        a = awards[k].winners\\n        c = a.contenders\\n        for v in c.values():\\n            for name in v.name.split(\" \"):\\n                if name not in l:\\n                    f.write(name + \"\\n\")\\n                    l.append(name)'"
      ]
     },
     "execution_count": 35,
     "metadata": {},
     "output_type": "execute_result"
    }
   ],
   "source": [
    "\"\"\"l = []\n",
    "with open(\"common_words_winner_nominees_presenters.txt\", \"w+\") as f:\n",
    "    for k in awards.keys():\n",
    "        a = awards[k].winners\n",
    "        c = a.contenders\n",
    "        for v in c.values():\n",
    "            for name in v.name.split(\" \"):\n",
    "                if name not in l:\n",
    "                    f.write(name + \"\\n\")\n",
    "                    l.append(name)\"\"\""
   ]
  },
  {
   "cell_type": "code",
   "execution_count": 36,
   "metadata": {},
   "outputs": [
    {
     "data": {
      "text/plain": [
       "'with open(\"common_words_wins.pickle\", \"wb\") as f:\\n    pickle.dump(l, f)\\n'"
      ]
     },
     "execution_count": 36,
     "metadata": {},
     "output_type": "execute_result"
    }
   ],
   "source": [
    "\"\"\"with open(\"common_words_wins.pickle\", \"wb\") as f:\n",
    "    pickle.dump(l, f)\n",
    "\"\"\""
   ]
  },
  {
   "cell_type": "code",
   "execution_count": 37,
   "metadata": {},
   "outputs": [],
   "source": [
    "def get_winners(tweets, awards):\n",
    "    #awards = list of str\n",
    "    awardNames = awards.keys()\n",
    "    \n",
    "        "
   ]
  },
  {
   "cell_type": "markdown",
   "metadata": {},
   "source": [
    "## Get Award Names"
   ]
  },
  {
   "cell_type": "markdown",
   "metadata": {},
   "source": [
    "Function to get awards"
   ]
  },
  {
   "cell_type": "code",
   "execution_count": 38,
   "metadata": {},
   "outputs": [],
   "source": [
    "def clean_and_sort_text(text):\n",
    "    # function to group award names, even if they are missing a key word or a \"-\"\n",
    "    regex_pattern =  r\"(motion+| original+|)\"\n",
    "    text = text.replace(regex_pattern, ' ')\n",
    "    words = text.replace(\"-\", ' ').split()\n",
    "    # sort words and join back into a string\n",
    "    return ' '.join(sorted(words))\n",
    "\n",
    "\n",
    "def extract_award_names(df, text_column='text'):\n",
    "    extracted_award_names = []\n",
    "    # indentify which tweets might contain an award name\n",
    "    keywords = ['wins', 'awarded', 'goes to']\n",
    "    pattern = '|'.join(keywords)\n",
    "    candidate_tweets = df[df[text_column].str.contains(pattern, regex=True)]\n",
    "\n",
    "    # matching regex to all the tweets\n",
    "    regex_pattern = r\"(wins|awarded|goes to)(.*?)(award)?($|[,.!?:;])\"\n",
    "    for tweet in candidate_tweets[text_column]:\n",
    "        matches = re.findall(regex_pattern, tweet)\n",
    "        for match in matches:\n",
    "            award_name = match[1].strip()\n",
    "            if award_name:\n",
    "                extracted_award_names.append(award_name)\n",
    "\n",
    "    # clean up the results so we can rank them\n",
    "    delimiters = r\"( http+| for +| at +| goldenglobes +| odds-on +| and +| goes +)\"\n",
    "    cleaned_award_names = [re.split(delimiters, name, 1)[0] for name in extracted_award_names]\n",
    "    cleaned_award_names = [name for name in cleaned_award_names if name.lower().startswith('best') and len(name.split()) > 1]\n",
    "    cleaned_award_df = pd.DataFrame(cleaned_award_names, columns=['Cleaned_Award_Name'])\n",
    "    cleaned_award_counts = cleaned_award_df['Cleaned_Award_Name'].value_counts().reset_index()\n",
    "    cleaned_award_counts.columns = ['Cleaned_Award_Name', 'Frequency']\n",
    "\n",
    "    cleaned_award_counts['Sorted_Award_Name'] = cleaned_award_counts['Cleaned_Award_Name'].apply(clean_and_sort_text)\n",
    "    \n",
    "    # chooses the longest award name of the grouping\n",
    "    def prefer_longer(series):\n",
    "        return max(series, key=len)\n",
    "\n",
    "    # group by the cleaned and sorted award names and add the frequencies together\n",
    "    grouped_award_counts = cleaned_award_counts.groupby('Sorted_Award_Name').agg({\n",
    "        'Cleaned_Award_Name': prefer_longer,  # keep the longest version\n",
    "        'Frequency': 'sum'  # add up their frequencies\n",
    "    }).reset_index(drop=True)\n",
    "\n",
    "    grouped_award_counts = grouped_award_counts[grouped_award_counts['Frequency'] > 1]\n",
    "    grouped_award_counts = grouped_award_counts.sort_values(by='Frequency', ascending=False).reset_index(drop=True)\n",
    "    return grouped_award_counts\n",
    "\n",
    "#award_names = extract_award_names(tweets)\n",
    "#print(award_names)\n"
   ]
  }
 ],
 "metadata": {
  "kernelspec": {
   "display_name": "project1-337",
   "language": "python",
   "name": "python3"
  },
  "language_info": {
   "codemirror_mode": {
    "name": "ipython",
    "version": 3
   },
   "file_extension": ".py",
   "mimetype": "text/x-python",
   "name": "python",
   "nbconvert_exporter": "python",
   "pygments_lexer": "ipython3",
   "version": "3.12.0"
  }
 },
 "nbformat": 4,
 "nbformat_minor": 2
}
