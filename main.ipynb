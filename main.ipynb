{
 "cells": [
  {
   "cell_type": "code",
   "execution_count": 1,
   "metadata": {},
   "outputs": [],
   "source": [
    "import pandas as pd\n",
    "import re\n",
    "from functools import partial\n",
    "from ourtypes.category import Category\n",
    "from english_words import get_english_words_set\n",
    "web2lowerset = get_english_words_set(['gcide'], lower=True)\n",
    "import pickle \n",
    "with open(\"common_words_hosts.pickle\", \"rb\") as pckl:   \n",
    "    common_words_host_list = pickle.load(pckl)"
   ]
  },
  {
   "cell_type": "markdown",
   "metadata": {},
   "source": [
    "Set up tweets df"
   ]
  },
  {
   "cell_type": "code",
   "execution_count": 2,
   "metadata": {},
   "outputs": [],
   "source": [
    "preprocessed_tweets = \"gg2013_preprocessed.json\"\n",
    "tweets = pd.read_json(preprocessed_tweets, orient='records', lines=True)[[\"text\",\"timestamp\",\"is_english\"]]\n",
    "tweets = tweets[tweets[\"is_english\"]] #only keep english tweets\n",
    "del tweets[\"is_english\"] #get rid of this row\n",
    "tweets = tweets.dropna(subset=[\"text\"])"
   ]
  },
  {
   "cell_type": "code",
   "execution_count": 3,
   "metadata": {},
   "outputs": [],
   "source": [
    "#get hosts for entire ceremony\n",
    "#get award names for the ceremony"
   ]
  },
  {
   "cell_type": "code",
   "execution_count": 4,
   "metadata": {},
   "outputs": [],
   "source": [
    "def remove_common_words(text):\n",
    "    #negative positive golden globes\n",
    "    words = [word for word in text.split(\" \") if word not in common_words_host_list]\n",
    "    return \" \".join(words)"
   ]
  },
  {
   "cell_type": "code",
   "execution_count": 5,
   "metadata": {},
   "outputs": [],
   "source": [
    "def remove_rt(text):\n",
    "    if text[0:4] == \"rt \":\n",
    "        text = text.split(\" \")\n",
    "        text = text[2:]\n",
    "        return \" \".join(text)\n",
    "    return text"
   ]
  },
  {
   "cell_type": "markdown",
   "metadata": {},
   "source": [
    "function to get hosts"
   ]
  },
  {
   "cell_type": "code",
   "execution_count": 6,
   "metadata": {},
   "outputs": [],
   "source": [
    "def hosts_helper(text, host_funcs, cohost_funcs, single_cohost_funcs, hosts):\n",
    "    #check for cohosts first\n",
    "    for func in cohost_funcs:\n",
    "        m = func.search(text)\n",
    "        if m is not None:\n",
    "            name1 = remove_common_words(m[\"name1\"])\n",
    "            name2 = remove_common_words(m[\"name2\"])\n",
    "            hosts.vote_contender(name1, cohost=name2)\n",
    "            hosts.vote_contender(name2, cohost=name1)\n",
    "            return name1, name2\n",
    "    #check for hosts\n",
    "    for func in host_funcs:\n",
    "        m = func.search(text)\n",
    "        if m is not None:\n",
    "            name = remove_common_words(m[\"name\"])\n",
    "            hosts.vote_contender(name)\n",
    "            return name\n",
    "    return None"
   ]
  },
  {
   "cell_type": "code",
   "execution_count": 7,
   "metadata": {},
   "outputs": [],
   "source": [
    "def get_hosts(tweets):\n",
    "    hosts = Category() #our host storage object\n",
    "    host_tweets = tweets[tweets[\"text\"].str.contains(\"host\")] #get tweets with the word host in it\n",
    "    del host_tweets[\"timestamp\"] #we don't need this \n",
    "    host_tweets = host_tweets.map(remove_rt) #get rid of retweets\n",
    "    #handle single names or no spaces?\n",
    "    host_patterns = ['host (?P<name>[a-z]+ [a-z]+)', '(?P<name>[a-z]+ [a-z]+) (hosting|is hosting|will host|hosts|hosted)']\n",
    "    cohost_patterns = ['(co-?|)hosts (?P<name1>[a-z]+ [a-z]+) and (?P<name2>[a-z]+ [a-z]+)',\n",
    "                    '(?P<name1>[a-z]+ [a-z]+) and (?P<name2>[a-z]+ [a-z]+) (are (co-?|)hosting|will (co-?|)host|(co-?|)host|(co-?|)hosting|hosted)[^s]']\n",
    "    single_cohost_patterns = ['cohost (?P<name>[a-z]+ [a-z]+)',\n",
    "                    '(?P<name>[a-z]+ [a-z]+) (is cohosting|will cohost|cohosts|cohosting|cohosted)[^s]']\n",
    "    #compile regex functions\n",
    "    host_funcs = [re.compile(pat) for pat in host_patterns]\n",
    "    cohost_funcs = [re.compile(pat) for pat in cohost_patterns]\n",
    "    single_cohost_funcs = [re.compile(pat) for pat in single_cohost_patterns]\n",
    "\n",
    "    #apply helper function \n",
    "    host_tweets = host_tweets.map(partial(hosts_helper, host_funcs=host_funcs, cohost_funcs=cohost_funcs, single_cohost_funcs=single_cohost_funcs, hosts=hosts))\n",
    "    host_tweets = host_tweets.dropna(subset=[\"text\"])\n",
    "    return hosts"
   ]
  },
  {
   "cell_type": "code",
   "execution_count": 8,
   "metadata": {},
   "outputs": [],
   "source": [
    "h = get_hosts(tweets)\n",
    "vc = h.total_votes()\n",
    "#match misspelling and single name "
   ]
  },
  {
   "cell_type": "code",
   "execution_count": 11,
   "metadata": {},
   "outputs": [
    {
     "data": {
      "text/plain": [
       "[('tina fey', 667.0, ('amypoehler', 126)),\n",
       " ('amy poehler', 199.0, ('tinafey', 126)),\n",
       " ('kristen wiig', 65.0, ('willferrell', 51)),\n",
       " ('will ferrell', 64.5, ('kristenwiig', 51)),\n",
       " ('amy should', 9.5, ('tina', 3)),\n",
       " ('amy pohler', 9, ('tinafey', 8)),\n",
       " ('amp amy', 5, None),\n",
       " ('open post', 4, None),\n",
       " ('ricky gervais', 4, None),\n",
       " ('tina should', 3, ('amy', 3)),\n",
       " ('kristin wiig', 3, ('willferrell', 3)),\n",
       " ('misses rickygervais', 2.5, None),\n",
       " ('tina feys', 2, ('amypoehler', 1)),\n",
       " ('her scar', 2.0, ('tinafey', 1)),\n",
       " ('while im', 2.0, None),\n",
       " ('girl tina', 2, None),\n",
       " ('schwarzenegger should', 2, ('stallone', 2)),\n",
       " ('tonights dual', 1.5, None),\n",
       " ('brilliant comedianswritersactresses', 1.5, None),\n",
       " ('charming people', 1.5, None),\n",
       " ('amy poheler', 1.5, ('tinafey', 1)),\n",
       " ('maggie smith', 1.5, None),\n",
       " ('tweets whos', 1.5, None),\n",
       " ('amy poehlers', 1, ('tinafey', 1)),\n",
       " ('tine fey', 1, ('amypoehler', 1)),\n",
       " ('miss norberry', 1, None),\n",
       " ('little mermaid', 1, ('princessjasmine', 1)),\n",
       " ('princess jasmine', 1, ('littlemermaid', 1)),\n",
       " ('girl crushes', 1, None),\n",
       " ('hot chicas', 1, None),\n",
       " ('amy poeler', 1, ('tinafey', 1)),\n",
       " ('look whos', 1, None),\n",
       " ('tina faye', 1, ('amypolar', 1)),\n",
       " ('amy polar', 1, ('tinafaye', 1)),\n",
       " ('feyampamy poehler', 1, None),\n",
       " ('danyjarvis tina', 1, ('amyshould', 1)),\n",
       " ('bffs chilling', 1, None),\n",
       " ('chicago improv', 1, None),\n",
       " ('matt lauer', 1, None),\n",
       " ('tiny fey', 1, ('amypoehler', 1)),\n",
       " ('amybrock tina', 1, ('amyshould', 1)),\n",
       " ('amy poller', 1, ('tinafey', 1)),\n",
       " ('fey never', 1, None),\n",
       " ('antderosa tina', 1, ('amyshould', 1)),\n",
       " ('liz lemon', 1, None),\n",
       " ('sarah palin', 1, None),\n",
       " ('amybest gg', 1, None),\n",
       " ('rt megcoan', 1, None),\n",
       " ('amp poehler', 1, None),\n",
       " ('rebeccamakonnen whos', 1, None),\n",
       " ('gervais isnt', 1, None),\n",
       " ('kristen shouldve', 1, ('will', 1)),\n",
       " ('fey ate', 1, None),\n",
       " ('alum should', 1, ('', 1)),\n",
       " ('kristenwiig will', 1, ('willfarrell', 1)),\n",
       " ('feyamy poehler', 1, None),\n",
       " ('rt evafragiskatos', 1, None),\n",
       " ('should b', 1, None),\n",
       " ('jennifer lawrence', 1, None),\n",
       " ('will ferrel', 1, ('kristenwiig', 1)),\n",
       " ('ferrellkristen wiig', 1, None),\n",
       " ('anne hathaway', 1, None),\n",
       " ('amy kristin', 1, ('willshould', 1)),\n",
       " ('will should', 1, ('amykristin', 1)),\n",
       " ('rosechen adambexten', 1, ('will', 1)),\n",
       " ('foreign film', 1, None),\n",
       " ('thekareem tina', 1, ('amyshould', 1)),\n",
       " ('jsaintr hanrammer', 1, ('marlymccarthy', 1)),\n",
       " ('downey jr', 1, None),\n",
       " ('tina feythis', 1, None),\n",
       " ('seth macfarlane', 1, None),\n",
       " ('will continue', 1, None),\n",
       " ('wonder rickygervais', 1, None),\n",
       " ('remember whos', 1, None),\n",
       " ('poehler actually', 1, None),\n",
       " ('george clooney', 1, None),\n",
       " ('isnt mrcommunitynyc', 1, None),\n",
       " ('poehler continue', 1, None),\n",
       " ('well done', 1, None),\n",
       " ('amy until', 1, ('tina', 1)),\n",
       " ('rickygervais wasnt', 1, None),\n",
       " ('banter comedic', 1, None)]"
      ]
     },
     "execution_count": 11,
     "metadata": {},
     "output_type": "execute_result"
    }
   ],
   "source": [
    "vc"
   ]
  },
  {
   "cell_type": "markdown",
   "metadata": {},
   "source": [
    "Function to get awards"
   ]
  },
  {
   "cell_type": "code",
   "execution_count": 9,
   "metadata": {},
   "outputs": [
    {
     "name": "stdout",
     "output_type": "stream",
     "text": [
      "                                    Cleaned_Award_Name  Frequency\n",
      "0                                       best director          62\n",
      "1                                           best actor         46\n",
      "2                                   best original song         37\n",
      "3                                        best actress          36\n",
      "4                                            best song         34\n",
      "..                                                 ...        ...\n",
      "103                best actor in a mini-seriestv movie          2\n",
      "104  best performance by an actress in a tv musical...          2\n",
      "105                          best actor in a tv series          2\n",
      "106                                      best tv drama          2\n",
      "107  best actor in a comedy or musical congrats hug...          2\n",
      "\n",
      "[108 rows x 2 columns]\n"
     ]
    }
   ],
   "source": [
    "def clean_and_sort_text(text):\n",
    "    # function to group award names, even if they are missing a key word or a \"-\"\n",
    "    regex_pattern =  r\"(motion+| original+|)\"\n",
    "    text = text.replace(regex_pattern, ' ')\n",
    "    words = text.replace(\"-\", ' ').split()\n",
    "    # sort words and join back into a string\n",
    "    return ' '.join(sorted(words))\n",
    "\n",
    "\n",
    "def extract_award_names(df, text_column='text'):\n",
    "    extracted_award_names = []\n",
    "    # indentify which tweets might contain an award name\n",
    "    keywords = ['wins', 'awarded', 'goes to']\n",
    "    pattern = '|'.join(keywords)\n",
    "    candidate_tweets = df[df[text_column].str.contains(pattern, regex=True)]\n",
    "\n",
    "    # matching regex to all the tweets\n",
    "    regex_pattern = r\"(wins|awarded|goes to)(.*?)(award)?($|[,.!?:;])\"\n",
    "    for tweet in candidate_tweets[text_column]:\n",
    "        matches = re.findall(regex_pattern, tweet)\n",
    "        for match in matches:\n",
    "            award_name = match[1].strip()\n",
    "            if award_name:\n",
    "                extracted_award_names.append(award_name)\n",
    "\n",
    "    # clean up the results so we can rank them\n",
    "    delimiters = r\"( http+| for +| at +| goldenglobes +| odds-on +| and +| goes +)\"\n",
    "    cleaned_award_names = [re.split(delimiters, name, 1)[0] for name in extracted_award_names]\n",
    "    cleaned_award_names = [name for name in cleaned_award_names if name.lower().startswith('best') and len(name.split()) > 1]\n",
    "    cleaned_award_df = pd.DataFrame(cleaned_award_names, columns=['Cleaned_Award_Name'])\n",
    "    cleaned_award_counts = cleaned_award_df['Cleaned_Award_Name'].value_counts().reset_index()\n",
    "    cleaned_award_counts.columns = ['Cleaned_Award_Name', 'Frequency']\n",
    "\n",
    "    cleaned_award_counts['Sorted_Award_Name'] = cleaned_award_counts['Cleaned_Award_Name'].apply(clean_and_sort_text)\n",
    "    \n",
    "    # chooses the longest award name of the grouping\n",
    "    def prefer_longer(series):\n",
    "        return max(series, key=len)\n",
    "\n",
    "    # group by the cleaned and sorted award names and add the frequencies together\n",
    "    grouped_award_counts = cleaned_award_counts.groupby('Sorted_Award_Name').agg({\n",
    "        'Cleaned_Award_Name': prefer_longer,  # keep the longest version\n",
    "        'Frequency': 'sum'  # add up their frequencies\n",
    "    }).reset_index(drop=True)\n",
    "\n",
    "    grouped_award_counts = grouped_award_counts[grouped_award_counts['Frequency'] > 1]\n",
    "    grouped_award_counts = grouped_award_counts.sort_values(by='Frequency', ascending=False).reset_index(drop=True)\n",
    "    return grouped_award_counts\n",
    "\n",
    "award_names = extract_award_names(tweets)\n",
    "print(award_names)\n"
   ]
  },
  {
   "cell_type": "markdown",
   "metadata": {},
   "source": [
    "## Part Two\n",
    "- have awards as input\n",
    "- get presenters for awards\n",
    "- get nominees for awards\n",
    "- get winners for awards"
   ]
  },
  {
   "cell_type": "code",
   "execution_count": 10,
   "metadata": {},
   "outputs": [
    {
     "name": "stdout",
     "output_type": "stream",
     "text": [
      "26\n"
     ]
    }
   ],
   "source": [
    "awards = [\"best performance by an actor in a television series - comedy or musical\", \"best performance by an actor in a television series - drama\",\n",
    "          \"best television series - comedy or musical\", \"best performance by an actor in a motion picture - drama\",\n",
    "          \"best original song - motion picture\", \"best animated feature film\", \"best performance by an actress in a mini-series or motion picture made for television\",\n",
    "          \"best performance by an actor in a mini-series or motion picture made for television\", \"best television series - drama\", \"best performance by an actress in a supporting role in a motion picture\",\n",
    "          \"best performance by an actor in a supporting role in a series, mini-series or motion picture made for television\", \"best motion picture - drama\",\n",
    "          \"best performance by an actor in a motion picture - comedy or musical\", \"cecil b. demille award\", \"best performance by an actress in a motion picture - drama\",\n",
    "          \"best performance by an actress in a television series - drama\", \"best original score - motion picture\", \"best mini-series or motion picture made for television\",\n",
    "          \"best performance by an actress in a motion picture - comedy or musical\", \"best motion picture - comedy or musical\", \"best performance by an actress in a supporting role in a series, mini-series or motion picture made for television\",\n",
    "          \"best performance by an actor in a supporting role in a motion picture\", \"best foreign language film\", \"best performance by an actress in a television series - comedy or musical\",\n",
    "          \"best director - motion picture\", \"best screenplay - motion picture\"]\n",
    "print(len(awards))"
   ]
  },
  {
   "cell_type": "markdown",
   "metadata": {},
   "source": [
    "### Presenters"
   ]
  },
  {
   "cell_type": "code",
   "execution_count": null,
   "metadata": {},
   "outputs": [],
   "source": []
  }
 ],
 "metadata": {
  "kernelspec": {
   "display_name": "project1-337",
   "language": "python",
   "name": "python3"
  },
  "language_info": {
   "codemirror_mode": {
    "name": "ipython",
    "version": 3
   },
   "file_extension": ".py",
   "mimetype": "text/x-python",
   "name": "python",
   "nbconvert_exporter": "python",
   "pygments_lexer": "ipython3",
   "version": "3.12.0"
  }
 },
 "nbformat": 4,
 "nbformat_minor": 2
}
