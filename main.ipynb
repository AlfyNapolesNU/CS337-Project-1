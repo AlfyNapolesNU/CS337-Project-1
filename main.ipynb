{
 "cells": [
  {
   "cell_type": "code",
   "execution_count": 2,
   "metadata": {},
   "outputs": [],
   "source": [
    "import pandas as pd\n",
    "import re\n",
    "from functools import partial\n",
    "from ourtypes.category import Category\n",
    "from english_words import get_english_words_set\n",
    "web2lowerset = get_english_words_set(['gcide'], lower=True)\n",
    "import pickle \n",
    "with open(\"common_words_hosts.pickle\", \"rb\") as pckl:   \n",
    "    common_words_host_list = pickle.load(pckl)"
   ]
  },
  {
   "cell_type": "markdown",
   "metadata": {},
   "source": [
    "Set up tweets df"
   ]
  },
  {
   "cell_type": "code",
   "execution_count": 3,
   "metadata": {},
   "outputs": [],
   "source": [
    "preprocessed_tweets = \"gg2013_preprocessed.json\"\n",
    "tweets = pd.read_json(preprocessed_tweets, orient='records', lines=True)[[\"text\",\"timestamp\",\"is_english\"]]\n",
    "tweets = tweets[tweets[\"is_english\"]] #only keep english tweets\n",
    "del tweets[\"is_english\"] #get rid of this row\n",
    "tweets = tweets.dropna(subset=[\"text\"])"
   ]
  },
  {
   "cell_type": "code",
   "execution_count": 4,
   "metadata": {},
   "outputs": [],
   "source": [
    "#get hosts for entire ceremony\n",
    "#get award names for the ceremony"
   ]
  },
  {
   "cell_type": "code",
   "execution_count": 5,
   "metadata": {},
   "outputs": [],
   "source": [
    "def remove_common_words(text):\n",
    "    #negative positive golden globes\n",
    "    words = [word for word in text.split(\" \") if word not in common_words_host_list]\n",
    "    return \" \".join(words)"
   ]
  },
  {
   "cell_type": "code",
   "execution_count": 6,
   "metadata": {},
   "outputs": [],
   "source": [
    "def remove_rt(text):\n",
    "    if text[0:4] == \"rt \":\n",
    "        text = text.split(\" \")\n",
    "        text = text[2:]\n",
    "        return \" \".join(text)\n",
    "    return text"
   ]
  },
  {
   "cell_type": "markdown",
   "metadata": {},
   "source": [
    "function to get hosts"
   ]
  },
  {
   "cell_type": "code",
   "execution_count": 7,
   "metadata": {},
   "outputs": [],
   "source": [
    "def hosts_helper(text, host_funcs, cohost_funcs, single_cohost_funcs, hosts):\n",
    "    #check for cohosts first\n",
    "    for func in cohost_funcs:\n",
    "        m = func.search(text)\n",
    "        if m is not None:\n",
    "            name1 = remove_common_words(m[\"name1\"])\n",
    "            name2 = remove_common_words(m[\"name2\"])\n",
    "            hosts.vote_contender(name1, cocontender=name2)\n",
    "            hosts.vote_contender(name2, cocontender=name1)\n",
    "            return name1, name2\n",
    "    #check for hosts\n",
    "    for func in host_funcs:\n",
    "        m = func.search(text)\n",
    "        if m is not None:\n",
    "            name = remove_common_words(m[\"name\"])\n",
    "            hosts.vote_contender(name)\n",
    "            return name\n",
    "    return None"
   ]
  },
  {
   "cell_type": "code",
   "execution_count": 8,
   "metadata": {},
   "outputs": [],
   "source": [
    "def get_hosts(tweets):\n",
    "    hosts = Category(type=\"hosts\") #our host storage object\n",
    "    host_tweets = tweets[tweets[\"text\"].str.contains(\"host\")] #get tweets with the word host in it\n",
    "    del host_tweets[\"timestamp\"] #we don't need this \n",
    "    host_tweets = host_tweets.map(remove_rt) #get rid of retweets\n",
    "    #handle single names or no spaces?\n",
    "    host_patterns = ['host (?P<name>[a-z]+ [a-z]+)', '(?P<name>[a-z]+ [a-z]+) (hosting|is hosting|will host|hosts|hosted)']\n",
    "    cohost_patterns = ['(co-?|)hosts (?P<name1>[a-z]+ [a-z]+) and (?P<name2>[a-z]+ [a-z]+)',\n",
    "                    '(?P<name1>[a-z]+ [a-z]+) and (?P<name2>[a-z]+ [a-z]+) (are (co-?|)hosting|will (co-?|)host|(co-?|)host|(co-?|)hosting|hosted)[^s]']\n",
    "    single_cohost_patterns = ['cohost (?P<name>[a-z]+ [a-z]+)',\n",
    "                    '(?P<name>[a-z]+ [a-z]+) (is cohosting|will cohost|cohosts|cohosting|cohosted)[^s]']\n",
    "    #compile regex functions\n",
    "    host_funcs = [re.compile(pat) for pat in host_patterns]\n",
    "    cohost_funcs = [re.compile(pat) for pat in cohost_patterns]\n",
    "    single_cohost_funcs = [re.compile(pat) for pat in single_cohost_patterns]\n",
    "\n",
    "    #apply helper function \n",
    "    host_tweets = host_tweets.map(partial(hosts_helper, host_funcs=host_funcs, cohost_funcs=cohost_funcs, single_cohost_funcs=single_cohost_funcs, hosts=hosts))\n",
    "    host_tweets = host_tweets.dropna(subset=[\"text\"])\n",
    "    return hosts"
   ]
  },
  {
   "cell_type": "code",
   "execution_count": 9,
   "metadata": {},
   "outputs": [
    {
     "ename": "TypeError",
     "evalue": "unsupported operand type(s) for &: 'bool' and 'Contender'",
     "output_type": "error",
     "traceback": [
      "\u001b[0;31m---------------------------------------------------------------------------\u001b[0m",
      "\u001b[0;31mTypeError\u001b[0m                                 Traceback (most recent call last)",
      "\u001b[1;32m/Users/code/Documents/GitHub/CS337-Project-1/main.ipynb Cell 10\u001b[0m line \u001b[0;36m1\n\u001b[0;32m----> <a href='vscode-notebook-cell:/Users/code/Documents/GitHub/CS337-Project-1/main.ipynb#X12sZmlsZQ%3D%3D?line=0'>1</a>\u001b[0m h \u001b[39m=\u001b[39m get_hosts(tweets)\n\u001b[1;32m      <a href='vscode-notebook-cell:/Users/code/Documents/GitHub/CS337-Project-1/main.ipynb#X12sZmlsZQ%3D%3D?line=1'>2</a>\u001b[0m vc \u001b[39m=\u001b[39m h\u001b[39m.\u001b[39mtotal_votes()\n\u001b[1;32m      <a href='vscode-notebook-cell:/Users/code/Documents/GitHub/CS337-Project-1/main.ipynb#X12sZmlsZQ%3D%3D?line=2'>3</a>\u001b[0m \u001b[39m#match misspelling and single name \u001b[39;00m\n",
      "\u001b[1;32m/Users/code/Documents/GitHub/CS337-Project-1/main.ipynb Cell 10\u001b[0m line \u001b[0;36m1\n\u001b[1;32m     <a href='vscode-notebook-cell:/Users/code/Documents/GitHub/CS337-Project-1/main.ipynb#X12sZmlsZQ%3D%3D?line=14'>15</a>\u001b[0m single_cohost_funcs \u001b[39m=\u001b[39m [re\u001b[39m.\u001b[39mcompile(pat) \u001b[39mfor\u001b[39;00m pat \u001b[39min\u001b[39;00m single_cohost_patterns]\n\u001b[1;32m     <a href='vscode-notebook-cell:/Users/code/Documents/GitHub/CS337-Project-1/main.ipynb#X12sZmlsZQ%3D%3D?line=16'>17</a>\u001b[0m \u001b[39m#apply helper function \u001b[39;00m\n\u001b[0;32m---> <a href='vscode-notebook-cell:/Users/code/Documents/GitHub/CS337-Project-1/main.ipynb#X12sZmlsZQ%3D%3D?line=17'>18</a>\u001b[0m host_tweets \u001b[39m=\u001b[39m host_tweets\u001b[39m.\u001b[39;49mmap(partial(hosts_helper, host_funcs\u001b[39m=\u001b[39;49mhost_funcs, cohost_funcs\u001b[39m=\u001b[39;49mcohost_funcs, single_cohost_funcs\u001b[39m=\u001b[39;49msingle_cohost_funcs, hosts\u001b[39m=\u001b[39;49mhosts))\n\u001b[1;32m     <a href='vscode-notebook-cell:/Users/code/Documents/GitHub/CS337-Project-1/main.ipynb#X12sZmlsZQ%3D%3D?line=18'>19</a>\u001b[0m host_tweets \u001b[39m=\u001b[39m host_tweets\u001b[39m.\u001b[39mdropna(subset\u001b[39m=\u001b[39m[\u001b[39m\"\u001b[39m\u001b[39mtext\u001b[39m\u001b[39m\"\u001b[39m])\n\u001b[1;32m     <a href='vscode-notebook-cell:/Users/code/Documents/GitHub/CS337-Project-1/main.ipynb#X12sZmlsZQ%3D%3D?line=19'>20</a>\u001b[0m \u001b[39mreturn\u001b[39;00m hosts\n",
      "File \u001b[0;32m~/anaconda3/envs/project1-337/lib/python3.12/site-packages/pandas/core/frame.py:10123\u001b[0m, in \u001b[0;36mDataFrame.map\u001b[0;34m(self, func, na_action, **kwargs)\u001b[0m\n\u001b[1;32m  10120\u001b[0m \u001b[39mdef\u001b[39;00m \u001b[39minfer\u001b[39m(x):\n\u001b[1;32m  10121\u001b[0m     \u001b[39mreturn\u001b[39;00m x\u001b[39m.\u001b[39m_map_values(func, na_action\u001b[39m=\u001b[39mna_action)\n\u001b[0;32m> 10123\u001b[0m \u001b[39mreturn\u001b[39;00m \u001b[39mself\u001b[39;49m\u001b[39m.\u001b[39;49mapply(infer)\u001b[39m.\u001b[39m__finalize__(\u001b[39mself\u001b[39m, \u001b[39m\"\u001b[39m\u001b[39mmap\u001b[39m\u001b[39m\"\u001b[39m)\n",
      "File \u001b[0;32m~/anaconda3/envs/project1-337/lib/python3.12/site-packages/pandas/core/frame.py:10037\u001b[0m, in \u001b[0;36mDataFrame.apply\u001b[0;34m(self, func, axis, raw, result_type, args, by_row, **kwargs)\u001b[0m\n\u001b[1;32m  10025\u001b[0m \u001b[39mfrom\u001b[39;00m \u001b[39mpandas\u001b[39;00m\u001b[39m.\u001b[39;00m\u001b[39mcore\u001b[39;00m\u001b[39m.\u001b[39;00m\u001b[39mapply\u001b[39;00m \u001b[39mimport\u001b[39;00m frame_apply\n\u001b[1;32m  10027\u001b[0m op \u001b[39m=\u001b[39m frame_apply(\n\u001b[1;32m  10028\u001b[0m     \u001b[39mself\u001b[39m,\n\u001b[1;32m  10029\u001b[0m     func\u001b[39m=\u001b[39mfunc,\n\u001b[0;32m   (...)\u001b[0m\n\u001b[1;32m  10035\u001b[0m     kwargs\u001b[39m=\u001b[39mkwargs,\n\u001b[1;32m  10036\u001b[0m )\n\u001b[0;32m> 10037\u001b[0m \u001b[39mreturn\u001b[39;00m op\u001b[39m.\u001b[39;49mapply()\u001b[39m.\u001b[39m__finalize__(\u001b[39mself\u001b[39m, method\u001b[39m=\u001b[39m\u001b[39m\"\u001b[39m\u001b[39mapply\u001b[39m\u001b[39m\"\u001b[39m)\n",
      "File \u001b[0;32m~/anaconda3/envs/project1-337/lib/python3.12/site-packages/pandas/core/apply.py:837\u001b[0m, in \u001b[0;36mFrameApply.apply\u001b[0;34m(self)\u001b[0m\n\u001b[1;32m    834\u001b[0m \u001b[39melif\u001b[39;00m \u001b[39mself\u001b[39m\u001b[39m.\u001b[39mraw:\n\u001b[1;32m    835\u001b[0m     \u001b[39mreturn\u001b[39;00m \u001b[39mself\u001b[39m\u001b[39m.\u001b[39mapply_raw()\n\u001b[0;32m--> 837\u001b[0m \u001b[39mreturn\u001b[39;00m \u001b[39mself\u001b[39;49m\u001b[39m.\u001b[39;49mapply_standard()\n",
      "File \u001b[0;32m~/anaconda3/envs/project1-337/lib/python3.12/site-packages/pandas/core/apply.py:963\u001b[0m, in \u001b[0;36mFrameApply.apply_standard\u001b[0;34m(self)\u001b[0m\n\u001b[1;32m    962\u001b[0m \u001b[39mdef\u001b[39;00m \u001b[39mapply_standard\u001b[39m(\u001b[39mself\u001b[39m):\n\u001b[0;32m--> 963\u001b[0m     results, res_index \u001b[39m=\u001b[39m \u001b[39mself\u001b[39;49m\u001b[39m.\u001b[39;49mapply_series_generator()\n\u001b[1;32m    965\u001b[0m     \u001b[39m# wrap results\u001b[39;00m\n\u001b[1;32m    966\u001b[0m     \u001b[39mreturn\u001b[39;00m \u001b[39mself\u001b[39m\u001b[39m.\u001b[39mwrap_results(results, res_index)\n",
      "File \u001b[0;32m~/anaconda3/envs/project1-337/lib/python3.12/site-packages/pandas/core/apply.py:979\u001b[0m, in \u001b[0;36mFrameApply.apply_series_generator\u001b[0;34m(self)\u001b[0m\n\u001b[1;32m    976\u001b[0m \u001b[39mwith\u001b[39;00m option_context(\u001b[39m\"\u001b[39m\u001b[39mmode.chained_assignment\u001b[39m\u001b[39m\"\u001b[39m, \u001b[39mNone\u001b[39;00m):\n\u001b[1;32m    977\u001b[0m     \u001b[39mfor\u001b[39;00m i, v \u001b[39min\u001b[39;00m \u001b[39menumerate\u001b[39m(series_gen):\n\u001b[1;32m    978\u001b[0m         \u001b[39m# ignore SettingWithCopy here in case the user mutates\u001b[39;00m\n\u001b[0;32m--> 979\u001b[0m         results[i] \u001b[39m=\u001b[39m \u001b[39mself\u001b[39;49m\u001b[39m.\u001b[39;49mfunc(v, \u001b[39m*\u001b[39;49m\u001b[39mself\u001b[39;49m\u001b[39m.\u001b[39;49margs, \u001b[39m*\u001b[39;49m\u001b[39m*\u001b[39;49m\u001b[39mself\u001b[39;49m\u001b[39m.\u001b[39;49mkwargs)\n\u001b[1;32m    980\u001b[0m         \u001b[39mif\u001b[39;00m \u001b[39misinstance\u001b[39m(results[i], ABCSeries):\n\u001b[1;32m    981\u001b[0m             \u001b[39m# If we have a view on v, we need to make a copy because\u001b[39;00m\n\u001b[1;32m    982\u001b[0m             \u001b[39m#  series_generator will swap out the underlying data\u001b[39;00m\n\u001b[1;32m    983\u001b[0m             results[i] \u001b[39m=\u001b[39m results[i]\u001b[39m.\u001b[39mcopy(deep\u001b[39m=\u001b[39m\u001b[39mFalse\u001b[39;00m)\n",
      "File \u001b[0;32m~/anaconda3/envs/project1-337/lib/python3.12/site-packages/pandas/core/frame.py:10121\u001b[0m, in \u001b[0;36mDataFrame.map.<locals>.infer\u001b[0;34m(x)\u001b[0m\n\u001b[1;32m  10120\u001b[0m \u001b[39mdef\u001b[39;00m \u001b[39minfer\u001b[39m(x):\n\u001b[0;32m> 10121\u001b[0m     \u001b[39mreturn\u001b[39;00m x\u001b[39m.\u001b[39;49m_map_values(func, na_action\u001b[39m=\u001b[39;49mna_action)\n",
      "File \u001b[0;32m~/anaconda3/envs/project1-337/lib/python3.12/site-packages/pandas/core/base.py:921\u001b[0m, in \u001b[0;36mIndexOpsMixin._map_values\u001b[0;34m(self, mapper, na_action, convert)\u001b[0m\n\u001b[1;32m    918\u001b[0m \u001b[39mif\u001b[39;00m \u001b[39misinstance\u001b[39m(arr, ExtensionArray):\n\u001b[1;32m    919\u001b[0m     \u001b[39mreturn\u001b[39;00m arr\u001b[39m.\u001b[39mmap(mapper, na_action\u001b[39m=\u001b[39mna_action)\n\u001b[0;32m--> 921\u001b[0m \u001b[39mreturn\u001b[39;00m algorithms\u001b[39m.\u001b[39;49mmap_array(arr, mapper, na_action\u001b[39m=\u001b[39;49mna_action, convert\u001b[39m=\u001b[39;49mconvert)\n",
      "File \u001b[0;32m~/anaconda3/envs/project1-337/lib/python3.12/site-packages/pandas/core/algorithms.py:1814\u001b[0m, in \u001b[0;36mmap_array\u001b[0;34m(arr, mapper, na_action, convert)\u001b[0m\n\u001b[1;32m   1812\u001b[0m values \u001b[39m=\u001b[39m arr\u001b[39m.\u001b[39mastype(\u001b[39mobject\u001b[39m, copy\u001b[39m=\u001b[39m\u001b[39mFalse\u001b[39;00m)\n\u001b[1;32m   1813\u001b[0m \u001b[39mif\u001b[39;00m na_action \u001b[39mis\u001b[39;00m \u001b[39mNone\u001b[39;00m:\n\u001b[0;32m-> 1814\u001b[0m     \u001b[39mreturn\u001b[39;00m lib\u001b[39m.\u001b[39;49mmap_infer(values, mapper, convert\u001b[39m=\u001b[39;49mconvert)\n\u001b[1;32m   1815\u001b[0m \u001b[39melse\u001b[39;00m:\n\u001b[1;32m   1816\u001b[0m     \u001b[39mreturn\u001b[39;00m lib\u001b[39m.\u001b[39mmap_infer_mask(\n\u001b[1;32m   1817\u001b[0m         values, mapper, mask\u001b[39m=\u001b[39misna(values)\u001b[39m.\u001b[39mview(np\u001b[39m.\u001b[39muint8), convert\u001b[39m=\u001b[39mconvert\n\u001b[1;32m   1818\u001b[0m     )\n",
      "File \u001b[0;32mlib.pyx:2917\u001b[0m, in \u001b[0;36mpandas._libs.lib.map_infer\u001b[0;34m()\u001b[0m\n",
      "\u001b[1;32m/Users/code/Documents/GitHub/CS337-Project-1/main.ipynb Cell 10\u001b[0m line \u001b[0;36m1\n\u001b[1;32m     <a href='vscode-notebook-cell:/Users/code/Documents/GitHub/CS337-Project-1/main.ipynb#X12sZmlsZQ%3D%3D?line=13'>14</a>\u001b[0m     \u001b[39mif\u001b[39;00m m \u001b[39mis\u001b[39;00m \u001b[39mnot\u001b[39;00m \u001b[39mNone\u001b[39;00m:\n\u001b[1;32m     <a href='vscode-notebook-cell:/Users/code/Documents/GitHub/CS337-Project-1/main.ipynb#X12sZmlsZQ%3D%3D?line=14'>15</a>\u001b[0m         name \u001b[39m=\u001b[39m remove_common_words(m[\u001b[39m\"\u001b[39m\u001b[39mname\u001b[39m\u001b[39m\"\u001b[39m])\n\u001b[0;32m---> <a href='vscode-notebook-cell:/Users/code/Documents/GitHub/CS337-Project-1/main.ipynb#X12sZmlsZQ%3D%3D?line=15'>16</a>\u001b[0m         hosts\u001b[39m.\u001b[39;49mvote_contender(name)\n\u001b[1;32m     <a href='vscode-notebook-cell:/Users/code/Documents/GitHub/CS337-Project-1/main.ipynb#X12sZmlsZQ%3D%3D?line=16'>17</a>\u001b[0m         \u001b[39mreturn\u001b[39;00m name\n\u001b[1;32m     <a href='vscode-notebook-cell:/Users/code/Documents/GitHub/CS337-Project-1/main.ipynb#X12sZmlsZQ%3D%3D?line=17'>18</a>\u001b[0m \u001b[39mreturn\u001b[39;00m \u001b[39mNone\u001b[39;00m\n",
      "File \u001b[0;32m~/Documents/GitHub/CS337-Project-1/ourtypes/category.py:84\u001b[0m, in \u001b[0;36mCategory.vote_contender\u001b[0;34m(self, name, cocontender)\u001b[0m\n\u001b[1;32m     82\u001b[0m \u001b[39massert\u001b[39;00m name \u001b[39m==\u001b[39m name_key, \u001b[39m\"\u001b[39m\u001b[39mjust a check\u001b[39m\u001b[39m\"\u001b[39m\n\u001b[1;32m     83\u001b[0m contender \u001b[39m=\u001b[39m \u001b[39mself\u001b[39m\u001b[39m.\u001b[39m__handleOneName(name)\n\u001b[0;32m---> 84\u001b[0m \u001b[39mif\u001b[39;00m cocontenderExist \u001b[39m&\u001b[39;49m contender \u001b[39mis\u001b[39;00m \u001b[39mnot\u001b[39;00m \u001b[39mNone\u001b[39;00m:\n\u001b[1;32m     85\u001b[0m     contender\u001b[39m.\u001b[39mvoteCoContender(cocontender)\n\u001b[1;32m     86\u001b[0m \u001b[39mreturn\u001b[39;00m\n",
      "\u001b[0;31mTypeError\u001b[0m: unsupported operand type(s) for &: 'bool' and 'Contender'"
     ]
    }
   ],
   "source": [
    "h = get_hosts(tweets)\n",
    "vc = h.total_votes()\n",
    "#match misspelling and single name "
   ]
  },
  {
   "cell_type": "markdown",
   "metadata": {},
   "source": [
    "Function to get awards"
   ]
  },
  {
   "cell_type": "code",
   "execution_count": null,
   "metadata": {},
   "outputs": [
    {
     "name": "stdout",
     "output_type": "stream",
     "text": [
      "                                    Cleaned_Award_Name  Frequency\n",
      "0                                       best director          62\n",
      "1                                           best actor         46\n",
      "2                                   best original song         37\n",
      "3                                        best actress          36\n",
      "4                                            best song         34\n",
      "..                                                 ...        ...\n",
      "103                best actor in a mini-seriestv movie          2\n",
      "104  best performance by an actress in a tv musical...          2\n",
      "105                          best actor in a tv series          2\n",
      "106                                      best tv drama          2\n",
      "107  best actor in a comedy or musical congrats hug...          2\n",
      "\n",
      "[108 rows x 2 columns]\n"
     ]
    }
   ],
   "source": [
    "def clean_and_sort_text(text):\n",
    "    # function to group award names, even if they are missing a key word or a \"-\"\n",
    "    regex_pattern =  r\"(motion+| original+|)\"\n",
    "    text = text.replace(regex_pattern, ' ')\n",
    "    words = text.replace(\"-\", ' ').split()\n",
    "    # sort words and join back into a string\n",
    "    return ' '.join(sorted(words))\n",
    "\n",
    "\n",
    "def extract_award_names(df, text_column='text'):\n",
    "    extracted_award_names = []\n",
    "    # indentify which tweets might contain an award name\n",
    "    keywords = ['wins', 'awarded', 'goes to']\n",
    "    pattern = '|'.join(keywords)\n",
    "    candidate_tweets = df[df[text_column].str.contains(pattern, regex=True)]\n",
    "\n",
    "    # matching regex to all the tweets\n",
    "    regex_pattern = r\"(wins|awarded|goes to)(.*?)(award)?($|[,.!?:;])\"\n",
    "    for tweet in candidate_tweets[text_column]:\n",
    "        matches = re.findall(regex_pattern, tweet)\n",
    "        for match in matches:\n",
    "            award_name = match[1].strip()\n",
    "            if award_name:\n",
    "                extracted_award_names.append(award_name)\n",
    "\n",
    "    # clean up the results so we can rank them\n",
    "    delimiters = r\"( http+| for +| at +| goldenglobes +| odds-on +| and +| goes +)\"\n",
    "    cleaned_award_names = [re.split(delimiters, name, 1)[0] for name in extracted_award_names]\n",
    "    cleaned_award_names = [name for name in cleaned_award_names if name.lower().startswith('best') and len(name.split()) > 1]\n",
    "    cleaned_award_df = pd.DataFrame(cleaned_award_names, columns=['Cleaned_Award_Name'])\n",
    "    cleaned_award_counts = cleaned_award_df['Cleaned_Award_Name'].value_counts().reset_index()\n",
    "    cleaned_award_counts.columns = ['Cleaned_Award_Name', 'Frequency']\n",
    "\n",
    "    cleaned_award_counts['Sorted_Award_Name'] = cleaned_award_counts['Cleaned_Award_Name'].apply(clean_and_sort_text)\n",
    "    \n",
    "    # chooses the longest award name of the grouping\n",
    "    def prefer_longer(series):\n",
    "        return max(series, key=len)\n",
    "\n",
    "    # group by the cleaned and sorted award names and add the frequencies together\n",
    "    grouped_award_counts = cleaned_award_counts.groupby('Sorted_Award_Name').agg({\n",
    "        'Cleaned_Award_Name': prefer_longer,  # keep the longest version\n",
    "        'Frequency': 'sum'  # add up their frequencies\n",
    "    }).reset_index(drop=True)\n",
    "\n",
    "    grouped_award_counts = grouped_award_counts[grouped_award_counts['Frequency'] > 1]\n",
    "    grouped_award_counts = grouped_award_counts.sort_values(by='Frequency', ascending=False).reset_index(drop=True)\n",
    "    return grouped_award_counts\n",
    "\n",
    "award_names = extract_award_names(tweets)\n",
    "print(award_names)\n"
   ]
  },
  {
   "cell_type": "markdown",
   "metadata": {},
   "source": [
    "## Part Two\n",
    "- have awards as input\n",
    "- get presenters for awards\n",
    "- get nominees for awards\n",
    "- get winners for awards"
   ]
  },
  {
   "cell_type": "code",
   "execution_count": null,
   "metadata": {},
   "outputs": [
    {
     "name": "stdout",
     "output_type": "stream",
     "text": [
      "26\n"
     ]
    }
   ],
   "source": [
    "awards = [\"best performance by an actor in a television series - comedy or musical\", \"best performance by an actor in a television series - drama\",\n",
    "          \"best television series - comedy or musical\", \"best performance by an actor in a motion picture - drama\",\n",
    "          \"best original song - motion picture\", \"best animated feature film\", \"best performance by an actress in a mini-series or motion picture made for television\",\n",
    "          \"best performance by an actor in a mini-series or motion picture made for television\", \"best television series - drama\", \"best performance by an actress in a supporting role in a motion picture\",\n",
    "          \"best performance by an actor in a supporting role in a series, mini-series or motion picture made for television\", \"best motion picture - drama\",\n",
    "          \"best performance by an actor in a motion picture - comedy or musical\", \"cecil b. demille award\", \"best performance by an actress in a motion picture - drama\",\n",
    "          \"best performance by an actress in a television series - drama\", \"best original score - motion picture\", \"best mini-series or motion picture made for television\",\n",
    "          \"best performance by an actress in a motion picture - comedy or musical\", \"best motion picture - comedy or musical\", \"best performance by an actress in a supporting role in a series, mini-series or motion picture made for television\",\n",
    "          \"best performance by an actor in a supporting role in a motion picture\", \"best foreign language film\", \"best performance by an actress in a television series - comedy or musical\",\n",
    "          \"best director - motion picture\", \"best screenplay - motion picture\"]\n",
    "print(len(awards))"
   ]
  },
  {
   "cell_type": "markdown",
   "metadata": {},
   "source": [
    "### Presenters"
   ]
  },
  {
   "cell_type": "code",
   "execution_count": null,
   "metadata": {},
   "outputs": [],
   "source": []
  }
 ],
 "metadata": {
  "kernelspec": {
   "display_name": "project1-337",
   "language": "python",
   "name": "python3"
  },
  "language_info": {
   "codemirror_mode": {
    "name": "ipython",
    "version": 3
   },
   "file_extension": ".py",
   "mimetype": "text/x-python",
   "name": "python",
   "nbconvert_exporter": "python",
   "pygments_lexer": "ipython3",
   "version": "3.12.0"
  }
 },
 "nbformat": 4,
 "nbformat_minor": 2
}
